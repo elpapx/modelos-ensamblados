{
 "cells": [
  {
   "cell_type": "markdown",
   "metadata": {
    "id": "GLoEHU7gre_j"
   },
   "source": [
    "Disponemos de un dataset con información de inmuebles vendidos en el Condado de King, incluida la ciudad de Seattle, entre mayo de 2014 y mayo de 2015.\n",
    "\n",
    "El objetivo de la práctica consiste en utilizar dos de los algoritmos vistos en el módulo para la estimación de los precios de venta de inmuebles en este condado y para esas fechas.\n",
    "\n",
    "Las variables son las siguientes: \n",
    "\n",
    "- Id: identificador del inmueble. (eliminada)\n",
    "- Date: fecha de venta en formato “YYYYMMDDT000000”. (transformada) \n",
    "- Price: precio de venta final en $. (transformada log)\n",
    "- Bedrooms: número de habitaciones del inmueble. (queda)\n",
    "- Bathrooms: número de aseos del inmueble. (transformada a entera)\n",
    "- Sqft_living: área del inmueble en pies cuadrados. (conversión)\n",
    "- Sqft_lot: área de la parcela en la que se encuentra. (conversión)\n",
    "- Floors: número de pisos del inmueble. (queda)\n",
    "- Waterfront: valor = 0 si no tiene vistas al mar; valor = 1 si tiene vistas al mar. (queda)\n",
    "- View: nos dice si ha sido visitada por potenciales compradores muchas o pocas veces (0 pocas, 4 muchas). (categórica transformada)  \n",
    "- Condition: condición en la que se encuentra el inmueble (1 mal, 5 muy bien). (categórica transformada) \n",
    "- Grade: calificación dada al inmueble, basada en un sistema propio del Condado de King (cuanto mayor es el valor, mejor es el inmueble). \n",
    "- Sqft_above: área en pies cuadrados del inmueble si no contamos el sótano. \n",
    "- Sqft_basement: área en pies cuadrados del sótano. \n",
    "- Yr_built: año de construcción. \n",
    "- Yr_renovated: año en que fue reformado/restaurado. \n",
    "- Zipcode: parecido al código postal español. (eliminada) \n",
    "- Lat: latitud en grados. (eliminada)\n",
    "- Lon: longitud en grados. (eliminada)\n",
    "- Sqft_living: área media de los 15 inmuebles vecinos más cercanos. \n",
    "- Sqft_lot15: área media de las 15 parcelas vecinas más cercanas. \n",
    "\n",
    "Con todos estos datos os pedimos lo siguiente: \n",
    "1. Preprocesado: \n",
    "  - Convertir las áreas a metros cuadrados. \n",
    "  - Convertir la fecha de venta en string “YYYYMMDD”. \n",
    "2. Estimación de precios: \n",
    "  - Utilizar el algoritmo de Árboles de Decisión. \n",
    "  - Utilizar el algoritmo de Random Forest. \n",
    "  - Utilizar el algoritmo de Grandient Boodting.\n",
    "3. Evaluación de los modelos: \n",
    "  - Comparar los valores de R2 de ambos modelos. \n",
    "  - Comentar los resultados. \n",
    "\n",
    "***Consideraciones:***\n",
    "Los resultados de R2 pueden ser dispares entre grupos. No hay un modelo único correcto. \n",
    "En cuanto a los dos algoritmos, pedimos que probéis diferentes parametrizaciones buscando modelos que generalicen correctamente (evitar over y underfitting).\n"
   ]
  },
  {
   "cell_type": "markdown",
   "metadata": {
    "id": "4BKe-eeRDrCk"
   },
   "source": [
    "# Setup "
   ]
  },
  {
   "cell_type": "code",
   "execution_count": 2,
   "metadata": {
    "id": "HCFiKwUjsniN"
   },
   "outputs": [],
   "source": [
    "\n",
    "import pandas as pd \n",
    "import numpy as np \n",
    "import pprint \n",
    "import csv\n",
    "import seaborn as sns\n",
    "import scipy.stats as st\n",
    "import matplotlib.pyplot as plt\n",
    "%matplotlib inline\n",
    "\n"
   ]
  },
  {
   "cell_type": "code",
   "execution_count": 3,
   "metadata": {
    "id": "V4ITTFqbuSbI"
   },
   "outputs": [],
   "source": [
    "from google.colab import files\n",
    "from matplotlib import rcParams\n",
    "from sklearn.compose import ColumnTransformer\n",
    "from sklearn.pipeline import Pipeline\n",
    "from sklearn.preprocessing import StandardScaler, OneHotEncoder, RobustScaler, MinMaxScaler, StandardScaler\n",
    "from sklearn.model_selection import train_test_split, cross_val_predict, cross_val_score, RandomizedSearchCV, GridSearchCV\n",
    "from sklearn.ensemble import AdaBoostRegressor\n",
    "from sklearn.tree import DecisionTreeRegressor\n",
    "from sklearn.metrics import  mean_absolute_error, mean_squared_error, r2_score,confusion_matrix, precision_recall_curve, classification_report, plot_roc_curve, roc_auc_score, confusion_matrix, plot_confusion_matrix\n",
    "from matplotlib.colors import ListedColormap"
   ]
  },
  {
   "cell_type": "code",
   "execution_count": 4,
   "metadata": {
    "colab": {
     "base_uri": "https://localhost:8080/",
     "height": 95,
     "resources": {
      "http://localhost:8080/nbextensions/google.colab/files.js": {
       "data": "Ly8gQ29weXJpZ2h0IDIwMTcgR29vZ2xlIExMQwovLwovLyBMaWNlbnNlZCB1bmRlciB0aGUgQXBhY2hlIExpY2Vuc2UsIFZlcnNpb24gMi4wICh0aGUgIkxpY2Vuc2UiKTsKLy8geW91IG1heSBub3QgdXNlIHRoaXMgZmlsZSBleGNlcHQgaW4gY29tcGxpYW5jZSB3aXRoIHRoZSBMaWNlbnNlLgovLyBZb3UgbWF5IG9idGFpbiBhIGNvcHkgb2YgdGhlIExpY2Vuc2UgYXQKLy8KLy8gICAgICBodHRwOi8vd3d3LmFwYWNoZS5vcmcvbGljZW5zZXMvTElDRU5TRS0yLjAKLy8KLy8gVW5sZXNzIHJlcXVpcmVkIGJ5IGFwcGxpY2FibGUgbGF3IG9yIGFncmVlZCB0byBpbiB3cml0aW5nLCBzb2Z0d2FyZQovLyBkaXN0cmlidXRlZCB1bmRlciB0aGUgTGljZW5zZSBpcyBkaXN0cmlidXRlZCBvbiBhbiAiQVMgSVMiIEJBU0lTLAovLyBXSVRIT1VUIFdBUlJBTlRJRVMgT1IgQ09ORElUSU9OUyBPRiBBTlkgS0lORCwgZWl0aGVyIGV4cHJlc3Mgb3IgaW1wbGllZC4KLy8gU2VlIHRoZSBMaWNlbnNlIGZvciB0aGUgc3BlY2lmaWMgbGFuZ3VhZ2UgZ292ZXJuaW5nIHBlcm1pc3Npb25zIGFuZAovLyBsaW1pdGF0aW9ucyB1bmRlciB0aGUgTGljZW5zZS4KCi8qKgogKiBAZmlsZW92ZXJ2aWV3IEhlbHBlcnMgZm9yIGdvb2dsZS5jb2xhYiBQeXRob24gbW9kdWxlLgogKi8KKGZ1bmN0aW9uKHNjb3BlKSB7CmZ1bmN0aW9uIHNwYW4odGV4dCwgc3R5bGVBdHRyaWJ1dGVzID0ge30pIHsKICBjb25zdCBlbGVtZW50ID0gZG9jdW1lbnQuY3JlYXRlRWxlbWVudCgnc3BhbicpOwogIGVsZW1lbnQudGV4dENvbnRlbnQgPSB0ZXh0OwogIGZvciAoY29uc3Qga2V5IG9mIE9iamVjdC5rZXlzKHN0eWxlQXR0cmlidXRlcykpIHsKICAgIGVsZW1lbnQuc3R5bGVba2V5XSA9IHN0eWxlQXR0cmlidXRlc1trZXldOwogIH0KICByZXR1cm4gZWxlbWVudDsKfQoKLy8gTWF4IG51bWJlciBvZiBieXRlcyB3aGljaCB3aWxsIGJlIHVwbG9hZGVkIGF0IGEgdGltZS4KY29uc3QgTUFYX1BBWUxPQURfU0laRSA9IDEwMCAqIDEwMjQ7CgpmdW5jdGlvbiBfdXBsb2FkRmlsZXMoaW5wdXRJZCwgb3V0cHV0SWQpIHsKICBjb25zdCBzdGVwcyA9IHVwbG9hZEZpbGVzU3RlcChpbnB1dElkLCBvdXRwdXRJZCk7CiAgY29uc3Qgb3V0cHV0RWxlbWVudCA9IGRvY3VtZW50LmdldEVsZW1lbnRCeUlkKG91dHB1dElkKTsKICAvLyBDYWNoZSBzdGVwcyBvbiB0aGUgb3V0cHV0RWxlbWVudCB0byBtYWtlIGl0IGF2YWlsYWJsZSBmb3IgdGhlIG5leHQgY2FsbAogIC8vIHRvIHVwbG9hZEZpbGVzQ29udGludWUgZnJvbSBQeXRob24uCiAgb3V0cHV0RWxlbWVudC5zdGVwcyA9IHN0ZXBzOwoKICByZXR1cm4gX3VwbG9hZEZpbGVzQ29udGludWUob3V0cHV0SWQpOwp9CgovLyBUaGlzIGlzIHJvdWdobHkgYW4gYXN5bmMgZ2VuZXJhdG9yIChub3Qgc3VwcG9ydGVkIGluIHRoZSBicm93c2VyIHlldCksCi8vIHdoZXJlIHRoZXJlIGFyZSBtdWx0aXBsZSBhc3luY2hyb25vdXMgc3RlcHMgYW5kIHRoZSBQeXRob24gc2lkZSBpcyBnb2luZwovLyB0byBwb2xsIGZvciBjb21wbGV0aW9uIG9mIGVhY2ggc3RlcC4KLy8gVGhpcyB1c2VzIGEgUHJvbWlzZSB0byBibG9jayB0aGUgcHl0aG9uIHNpZGUgb24gY29tcGxldGlvbiBvZiBlYWNoIHN0ZXAsCi8vIHRoZW4gcGFzc2VzIHRoZSByZXN1bHQgb2YgdGhlIHByZXZpb3VzIHN0ZXAgYXMgdGhlIGlucHV0IHRvIHRoZSBuZXh0IHN0ZXAuCmZ1bmN0aW9uIF91cGxvYWRGaWxlc0NvbnRpbnVlKG91dHB1dElkKSB7CiAgY29uc3Qgb3V0cHV0RWxlbWVudCA9IGRvY3VtZW50LmdldEVsZW1lbnRCeUlkKG91dHB1dElkKTsKICBjb25zdCBzdGVwcyA9IG91dHB1dEVsZW1lbnQuc3RlcHM7CgogIGNvbnN0IG5leHQgPSBzdGVwcy5uZXh0KG91dHB1dEVsZW1lbnQubGFzdFByb21pc2VWYWx1ZSk7CiAgcmV0dXJuIFByb21pc2UucmVzb2x2ZShuZXh0LnZhbHVlLnByb21pc2UpLnRoZW4oKHZhbHVlKSA9PiB7CiAgICAvLyBDYWNoZSB0aGUgbGFzdCBwcm9taXNlIHZhbHVlIHRvIG1ha2UgaXQgYXZhaWxhYmxlIHRvIHRoZSBuZXh0CiAgICAvLyBzdGVwIG9mIHRoZSBnZW5lcmF0b3IuCiAgICBvdXRwdXRFbGVtZW50Lmxhc3RQcm9taXNlVmFsdWUgPSB2YWx1ZTsKICAgIHJldHVybiBuZXh0LnZhbHVlLnJlc3BvbnNlOwogIH0pOwp9CgovKioKICogR2VuZXJhdG9yIGZ1bmN0aW9uIHdoaWNoIGlzIGNhbGxlZCBiZXR3ZWVuIGVhY2ggYXN5bmMgc3RlcCBvZiB0aGUgdXBsb2FkCiAqIHByb2Nlc3MuCiAqIEBwYXJhbSB7c3RyaW5nfSBpbnB1dElkIEVsZW1lbnQgSUQgb2YgdGhlIGlucHV0IGZpbGUgcGlja2VyIGVsZW1lbnQuCiAqIEBwYXJhbSB7c3RyaW5nfSBvdXRwdXRJZCBFbGVtZW50IElEIG9mIHRoZSBvdXRwdXQgZGlzcGxheS4KICogQHJldHVybiB7IUl0ZXJhYmxlPCFPYmplY3Q+fSBJdGVyYWJsZSBvZiBuZXh0IHN0ZXBzLgogKi8KZnVuY3Rpb24qIHVwbG9hZEZpbGVzU3RlcChpbnB1dElkLCBvdXRwdXRJZCkgewogIGNvbnN0IGlucHV0RWxlbWVudCA9IGRvY3VtZW50LmdldEVsZW1lbnRCeUlkKGlucHV0SWQpOwogIGlucHV0RWxlbWVudC5kaXNhYmxlZCA9IGZhbHNlOwoKICBjb25zdCBvdXRwdXRFbGVtZW50ID0gZG9jdW1lbnQuZ2V0RWxlbWVudEJ5SWQob3V0cHV0SWQpOwogIG91dHB1dEVsZW1lbnQuaW5uZXJIVE1MID0gJyc7CgogIGNvbnN0IHBpY2tlZFByb21pc2UgPSBuZXcgUHJvbWlzZSgocmVzb2x2ZSkgPT4gewogICAgaW5wdXRFbGVtZW50LmFkZEV2ZW50TGlzdGVuZXIoJ2NoYW5nZScsIChlKSA9PiB7CiAgICAgIHJlc29sdmUoZS50YXJnZXQuZmlsZXMpOwogICAgfSk7CiAgfSk7CgogIGNvbnN0IGNhbmNlbCA9IGRvY3VtZW50LmNyZWF0ZUVsZW1lbnQoJ2J1dHRvbicpOwogIGlucHV0RWxlbWVudC5wYXJlbnRFbGVtZW50LmFwcGVuZENoaWxkKGNhbmNlbCk7CiAgY2FuY2VsLnRleHRDb250ZW50ID0gJ0NhbmNlbCB1cGxvYWQnOwogIGNvbnN0IGNhbmNlbFByb21pc2UgPSBuZXcgUHJvbWlzZSgocmVzb2x2ZSkgPT4gewogICAgY2FuY2VsLm9uY2xpY2sgPSAoKSA9PiB7CiAgICAgIHJlc29sdmUobnVsbCk7CiAgICB9OwogIH0pOwoKICAvLyBXYWl0IGZvciB0aGUgdXNlciB0byBwaWNrIHRoZSBmaWxlcy4KICBjb25zdCBmaWxlcyA9IHlpZWxkIHsKICAgIHByb21pc2U6IFByb21pc2UucmFjZShbcGlja2VkUHJvbWlzZSwgY2FuY2VsUHJvbWlzZV0pLAogICAgcmVzcG9uc2U6IHsKICAgICAgYWN0aW9uOiAnc3RhcnRpbmcnLAogICAgfQogIH07CgogIGNhbmNlbC5yZW1vdmUoKTsKCiAgLy8gRGlzYWJsZSB0aGUgaW5wdXQgZWxlbWVudCBzaW5jZSBmdXJ0aGVyIHBpY2tzIGFyZSBub3QgYWxsb3dlZC4KICBpbnB1dEVsZW1lbnQuZGlzYWJsZWQgPSB0cnVlOwoKICBpZiAoIWZpbGVzKSB7CiAgICByZXR1cm4gewogICAgICByZXNwb25zZTogewogICAgICAgIGFjdGlvbjogJ2NvbXBsZXRlJywKICAgICAgfQogICAgfTsKICB9CgogIGZvciAoY29uc3QgZmlsZSBvZiBmaWxlcykgewogICAgY29uc3QgbGkgPSBkb2N1bWVudC5jcmVhdGVFbGVtZW50KCdsaScpOwogICAgbGkuYXBwZW5kKHNwYW4oZmlsZS5uYW1lLCB7Zm9udFdlaWdodDogJ2JvbGQnfSkpOwogICAgbGkuYXBwZW5kKHNwYW4oCiAgICAgICAgYCgke2ZpbGUudHlwZSB8fCAnbi9hJ30pIC0gJHtmaWxlLnNpemV9IGJ5dGVzLCBgICsKICAgICAgICBgbGFzdCBtb2RpZmllZDogJHsKICAgICAgICAgICAgZmlsZS5sYXN0TW9kaWZpZWREYXRlID8gZmlsZS5sYXN0TW9kaWZpZWREYXRlLnRvTG9jYWxlRGF0ZVN0cmluZygpIDoKICAgICAgICAgICAgICAgICAgICAgICAgICAgICAgICAgICAgJ24vYSd9IC0gYCkpOwogICAgY29uc3QgcGVyY2VudCA9IHNwYW4oJzAlIGRvbmUnKTsKICAgIGxpLmFwcGVuZENoaWxkKHBlcmNlbnQpOwoKICAgIG91dHB1dEVsZW1lbnQuYXBwZW5kQ2hpbGQobGkpOwoKICAgIGNvbnN0IGZpbGVEYXRhUHJvbWlzZSA9IG5ldyBQcm9taXNlKChyZXNvbHZlKSA9PiB7CiAgICAgIGNvbnN0IHJlYWRlciA9IG5ldyBGaWxlUmVhZGVyKCk7CiAgICAgIHJlYWRlci5vbmxvYWQgPSAoZSkgPT4gewogICAgICAgIHJlc29sdmUoZS50YXJnZXQucmVzdWx0KTsKICAgICAgfTsKICAgICAgcmVhZGVyLnJlYWRBc0FycmF5QnVmZmVyKGZpbGUpOwogICAgfSk7CiAgICAvLyBXYWl0IGZvciB0aGUgZGF0YSB0byBiZSByZWFkeS4KICAgIGxldCBmaWxlRGF0YSA9IHlpZWxkIHsKICAgICAgcHJvbWlzZTogZmlsZURhdGFQcm9taXNlLAogICAgICByZXNwb25zZTogewogICAgICAgIGFjdGlvbjogJ2NvbnRpbnVlJywKICAgICAgfQogICAgfTsKCiAgICAvLyBVc2UgYSBjaHVua2VkIHNlbmRpbmcgdG8gYXZvaWQgbWVzc2FnZSBzaXplIGxpbWl0cy4gU2VlIGIvNjIxMTU2NjAuCiAgICBsZXQgcG9zaXRpb24gPSAwOwogICAgZG8gewogICAgICBjb25zdCBsZW5ndGggPSBNYXRoLm1pbihmaWxlRGF0YS5ieXRlTGVuZ3RoIC0gcG9zaXRpb24sIE1BWF9QQVlMT0FEX1NJWkUpOwogICAgICBjb25zdCBjaHVuayA9IG5ldyBVaW50OEFycmF5KGZpbGVEYXRhLCBwb3NpdGlvbiwgbGVuZ3RoKTsKICAgICAgcG9zaXRpb24gKz0gbGVuZ3RoOwoKICAgICAgY29uc3QgYmFzZTY0ID0gYnRvYShTdHJpbmcuZnJvbUNoYXJDb2RlLmFwcGx5KG51bGwsIGNodW5rKSk7CiAgICAgIHlpZWxkIHsKICAgICAgICByZXNwb25zZTogewogICAgICAgICAgYWN0aW9uOiAnYXBwZW5kJywKICAgICAgICAgIGZpbGU6IGZpbGUubmFtZSwKICAgICAgICAgIGRhdGE6IGJhc2U2NCwKICAgICAgICB9LAogICAgICB9OwoKICAgICAgbGV0IHBlcmNlbnREb25lID0gZmlsZURhdGEuYnl0ZUxlbmd0aCA9PT0gMCA/CiAgICAgICAgICAxMDAgOgogICAgICAgICAgTWF0aC5yb3VuZCgocG9zaXRpb24gLyBmaWxlRGF0YS5ieXRlTGVuZ3RoKSAqIDEwMCk7CiAgICAgIHBlcmNlbnQudGV4dENvbnRlbnQgPSBgJHtwZXJjZW50RG9uZX0lIGRvbmVgOwoKICAgIH0gd2hpbGUgKHBvc2l0aW9uIDwgZmlsZURhdGEuYnl0ZUxlbmd0aCk7CiAgfQoKICAvLyBBbGwgZG9uZS4KICB5aWVsZCB7CiAgICByZXNwb25zZTogewogICAgICBhY3Rpb246ICdjb21wbGV0ZScsCiAgICB9CiAgfTsKfQoKc2NvcGUuZ29vZ2xlID0gc2NvcGUuZ29vZ2xlIHx8IHt9OwpzY29wZS5nb29nbGUuY29sYWIgPSBzY29wZS5nb29nbGUuY29sYWIgfHwge307CnNjb3BlLmdvb2dsZS5jb2xhYi5fZmlsZXMgPSB7CiAgX3VwbG9hZEZpbGVzLAogIF91cGxvYWRGaWxlc0NvbnRpbnVlLAp9Owp9KShzZWxmKTsK",
       "headers": [
        [
         "content-type",
         "application/javascript"
        ]
       ],
       "ok": true,
       "status": 200,
       "status_text": ""
      }
     }
    },
    "id": "UML4pc9ZuQZC",
    "outputId": "7784a97c-2fb9-44f4-c08a-7545fa46fd62"
   },
   "outputs": [
    {
     "data": {
      "text/html": [
       "\n",
       "     <input type=\"file\" id=\"files-f1d6e721-7260-4e59-82c0-4e5dfb125c7b\" name=\"files[]\" multiple disabled\n",
       "        style=\"border:none\" />\n",
       "     <output id=\"result-f1d6e721-7260-4e59-82c0-4e5dfb125c7b\">\n",
       "      Upload widget is only available when the cell has been executed in the\n",
       "      current browser session. Please rerun this cell to enable.\n",
       "      </output>\n",
       "      <script src=\"/nbextensions/google.colab/files.js\"></script> "
      ],
      "text/plain": [
       "<IPython.core.display.HTML object>"
      ]
     },
     "metadata": {},
     "output_type": "display_data"
    },
    {
     "name": "stdout",
     "output_type": "stream",
     "text": [
      "Saving act4_kc_house_data.csv to act4_kc_house_data.csv\n",
      "User uploaded file \"act4_kc_house_data.csv\" with length 2515206 bytes\n"
     ]
    }
   ],
   "source": [
    "uploaded = files.upload()\n",
    "\n",
    "for fn in uploaded.keys():\n",
    "  print('User uploaded file \"{name}\" with length {length} bytes'.format(\n",
    "      name=fn, length=len(uploaded[fn])))"
   ]
  },
  {
   "cell_type": "markdown",
   "metadata": {
    "id": "eufP8PL5a8OB"
   },
   "source": [
    "# Pre processing"
   ]
  },
  {
   "cell_type": "code",
   "execution_count": 5,
   "metadata": {
    "id": "R6ThAcgUrccN"
   },
   "outputs": [],
   "source": [
    "path = \"/content/act4_kc_house_data.csv\"\n",
    "df = pd.read_csv(path, sep=',')"
   ]
  },
  {
   "cell_type": "code",
   "execution_count": 6,
   "metadata": {
    "colab": {
     "base_uri": "https://localhost:8080/"
    },
    "id": "sVk5aC5fuj8B",
    "outputId": "197cbe1c-d2f4-469b-e945-0c108bca9e9d"
   },
   "outputs": [
    {
     "name": "stdout",
     "output_type": "stream",
     "text": [
      "<class 'pandas.core.frame.DataFrame'>\n",
      "RangeIndex: 21613 entries, 0 to 21612\n",
      "Data columns (total 21 columns):\n",
      " #   Column         Non-Null Count  Dtype  \n",
      "---  ------         --------------  -----  \n",
      " 0   id             21613 non-null  int64  \n",
      " 1   date           21613 non-null  object \n",
      " 2   price          21613 non-null  float64\n",
      " 3   bedrooms       21613 non-null  int64  \n",
      " 4   bathrooms      21613 non-null  float64\n",
      " 5   sqft_living    21613 non-null  int64  \n",
      " 6   sqft_lot       21613 non-null  int64  \n",
      " 7   floors         21613 non-null  float64\n",
      " 8   waterfront     21613 non-null  int64  \n",
      " 9   view           21613 non-null  int64  \n",
      " 10  condition      21613 non-null  int64  \n",
      " 11  grade          21613 non-null  int64  \n",
      " 12  sqft_above     21613 non-null  int64  \n",
      " 13  sqft_basement  21613 non-null  int64  \n",
      " 14  yr_built       21613 non-null  int64  \n",
      " 15  yr_renovated   21613 non-null  int64  \n",
      " 16  zipcode        21613 non-null  int64  \n",
      " 17  lat            21613 non-null  float64\n",
      " 18  long           21613 non-null  float64\n",
      " 19  sqft_living15  21613 non-null  int64  \n",
      " 20  sqft_lot15     21613 non-null  int64  \n",
      "dtypes: float64(5), int64(15), object(1)\n",
      "memory usage: 3.5+ MB\n",
      "None\n"
     ]
    }
   ],
   "source": [
    "print(df.info())"
   ]
  },
  {
   "cell_type": "markdown",
   "metadata": {
    "id": "F7Q-zi-MbKcH"
   },
   "source": [
    "Convertimos las columnas de *square feet* to *square meters* multiplicando cada valor de las columnas sqft por el valor de conversión que es 0.92903, así obtenemos la conversión y además le cambiamos el nombre de la variable en donde m_ indica ***meters***"
   ]
  },
  {
   "cell_type": "code",
   "execution_count": 7,
   "metadata": {
    "id": "IJKgidhU6bdH"
   },
   "outputs": [],
   "source": [
    "# Creamos las variables\n",
    "columns_sqft = ['sqft_living', 'sqft_lot', 'sqft_above', 'sqft_basement', 'sqft_living15', 'sqft_lot15']\n",
    "rename_columns= {'sqft_living': 'm_living',\n",
    "                 'sqft_lot':'m_lot',\n",
    "                 'sqft_above': 'm_above',\n",
    "                'sqft_basement':'m_basement',\n",
    "                 'sqft_living15':'m_living15',\n",
    "                 'sqft_lot15':'m_lot15'}\n",
    "\n",
    "# Loop para convertir el valor de square feet to square meter\n",
    "for column in columns_sqft:\n",
    "  df[column] = df[column] * 0.092903\n",
    "\n",
    "# Cambio de nombre a las columnas\n",
    "df.rename(columns= rename_columns, inplace=True, errors='raise')"
   ]
  },
  {
   "cell_type": "markdown",
   "metadata": {
    "id": "J8z75lzqb65u"
   },
   "source": [
    "En el pre procesado de los datos se nos pide cambiar la variable date a string en el siguiente block code podemos observar como se aplica la conversión de la columna. No obstante para mí criterio de modelización sería mejor trabajar con las columnas de las fechas separadas para mayor profundidad de trabajo de los datos por años, meses e incluso días. "
   ]
  },
  {
   "cell_type": "code",
   "execution_count": 8,
   "metadata": {
    "id": "ojQc3YSl_IK9"
   },
   "outputs": [],
   "source": [
    "\n",
    "# Creamos las variables year month day \n",
    "df['date'] = pd.to_datetime(df['date'])\n",
    "df['year'] = df['date'].dt.year\n",
    "df['month'] = df['date'].dt.month\n",
    "df['day'] = df['date'].dt.day\n",
    "\n",
    "# Almacenamos \n",
    "df_train3 = pd.DataFrame({\"year\":df['date'].dt.year, \"month\": df[\"date\"].dt.month, \"day\":df[\"date\"].dt.dayofyear})\n",
    "\n",
    "# Drop date\n",
    "df.drop('date', axis = 1, inplace = True)\n"
   ]
  },
  {
   "cell_type": "code",
   "execution_count": 10,
   "metadata": {
    "colab": {
     "base_uri": "https://localhost:8080/",
     "height": 206
    },
    "id": "kGgIq8haz7LA",
    "outputId": "e6361b05-97ff-42c0-ac66-61de793ae620"
   },
   "outputs": [
    {
     "data": {
      "text/html": [
       "\n",
       "  <div id=\"df-2930d414-d9c4-4404-accc-c98fb6fa4a93\">\n",
       "    <div class=\"colab-df-container\">\n",
       "      <div>\n",
       "<style scoped>\n",
       "    .dataframe tbody tr th:only-of-type {\n",
       "        vertical-align: middle;\n",
       "    }\n",
       "\n",
       "    .dataframe tbody tr th {\n",
       "        vertical-align: top;\n",
       "    }\n",
       "\n",
       "    .dataframe thead th {\n",
       "        text-align: right;\n",
       "    }\n",
       "</style>\n",
       "<table border=\"1\" class=\"dataframe\">\n",
       "  <thead>\n",
       "    <tr style=\"text-align: right;\">\n",
       "      <th></th>\n",
       "      <th>year</th>\n",
       "      <th>month</th>\n",
       "      <th>day</th>\n",
       "    </tr>\n",
       "  </thead>\n",
       "  <tbody>\n",
       "    <tr>\n",
       "      <th>0</th>\n",
       "      <td>2014</td>\n",
       "      <td>10</td>\n",
       "      <td>286</td>\n",
       "    </tr>\n",
       "    <tr>\n",
       "      <th>1</th>\n",
       "      <td>2014</td>\n",
       "      <td>12</td>\n",
       "      <td>343</td>\n",
       "    </tr>\n",
       "    <tr>\n",
       "      <th>2</th>\n",
       "      <td>2015</td>\n",
       "      <td>2</td>\n",
       "      <td>56</td>\n",
       "    </tr>\n",
       "    <tr>\n",
       "      <th>3</th>\n",
       "      <td>2014</td>\n",
       "      <td>12</td>\n",
       "      <td>343</td>\n",
       "    </tr>\n",
       "    <tr>\n",
       "      <th>4</th>\n",
       "      <td>2015</td>\n",
       "      <td>2</td>\n",
       "      <td>49</td>\n",
       "    </tr>\n",
       "  </tbody>\n",
       "</table>\n",
       "</div>\n",
       "      <button class=\"colab-df-convert\" onclick=\"convertToInteractive('df-2930d414-d9c4-4404-accc-c98fb6fa4a93')\"\n",
       "              title=\"Convert this dataframe to an interactive table.\"\n",
       "              style=\"display:none;\">\n",
       "        \n",
       "  <svg xmlns=\"http://www.w3.org/2000/svg\" height=\"24px\"viewBox=\"0 0 24 24\"\n",
       "       width=\"24px\">\n",
       "    <path d=\"M0 0h24v24H0V0z\" fill=\"none\"/>\n",
       "    <path d=\"M18.56 5.44l.94 2.06.94-2.06 2.06-.94-2.06-.94-.94-2.06-.94 2.06-2.06.94zm-11 1L8.5 8.5l.94-2.06 2.06-.94-2.06-.94L8.5 2.5l-.94 2.06-2.06.94zm10 10l.94 2.06.94-2.06 2.06-.94-2.06-.94-.94-2.06-.94 2.06-2.06.94z\"/><path d=\"M17.41 7.96l-1.37-1.37c-.4-.4-.92-.59-1.43-.59-.52 0-1.04.2-1.43.59L10.3 9.45l-7.72 7.72c-.78.78-.78 2.05 0 2.83L4 21.41c.39.39.9.59 1.41.59.51 0 1.02-.2 1.41-.59l7.78-7.78 2.81-2.81c.8-.78.8-2.07 0-2.86zM5.41 20L4 18.59l7.72-7.72 1.47 1.35L5.41 20z\"/>\n",
       "  </svg>\n",
       "      </button>\n",
       "      \n",
       "  <style>\n",
       "    .colab-df-container {\n",
       "      display:flex;\n",
       "      flex-wrap:wrap;\n",
       "      gap: 12px;\n",
       "    }\n",
       "\n",
       "    .colab-df-convert {\n",
       "      background-color: #E8F0FE;\n",
       "      border: none;\n",
       "      border-radius: 50%;\n",
       "      cursor: pointer;\n",
       "      display: none;\n",
       "      fill: #1967D2;\n",
       "      height: 32px;\n",
       "      padding: 0 0 0 0;\n",
       "      width: 32px;\n",
       "    }\n",
       "\n",
       "    .colab-df-convert:hover {\n",
       "      background-color: #E2EBFA;\n",
       "      box-shadow: 0px 1px 2px rgba(60, 64, 67, 0.3), 0px 1px 3px 1px rgba(60, 64, 67, 0.15);\n",
       "      fill: #174EA6;\n",
       "    }\n",
       "\n",
       "    [theme=dark] .colab-df-convert {\n",
       "      background-color: #3B4455;\n",
       "      fill: #D2E3FC;\n",
       "    }\n",
       "\n",
       "    [theme=dark] .colab-df-convert:hover {\n",
       "      background-color: #434B5C;\n",
       "      box-shadow: 0px 1px 3px 1px rgba(0, 0, 0, 0.15);\n",
       "      filter: drop-shadow(0px 1px 2px rgba(0, 0, 0, 0.3));\n",
       "      fill: #FFFFFF;\n",
       "    }\n",
       "  </style>\n",
       "\n",
       "      <script>\n",
       "        const buttonEl =\n",
       "          document.querySelector('#df-2930d414-d9c4-4404-accc-c98fb6fa4a93 button.colab-df-convert');\n",
       "        buttonEl.style.display =\n",
       "          google.colab.kernel.accessAllowed ? 'block' : 'none';\n",
       "\n",
       "        async function convertToInteractive(key) {\n",
       "          const element = document.querySelector('#df-2930d414-d9c4-4404-accc-c98fb6fa4a93');\n",
       "          const dataTable =\n",
       "            await google.colab.kernel.invokeFunction('convertToInteractive',\n",
       "                                                     [key], {});\n",
       "          if (!dataTable) return;\n",
       "\n",
       "          const docLinkHtml = 'Like what you see? Visit the ' +\n",
       "            '<a target=\"_blank\" href=https://colab.research.google.com/notebooks/data_table.ipynb>data table notebook</a>'\n",
       "            + ' to learn more about interactive tables.';\n",
       "          element.innerHTML = '';\n",
       "          dataTable['output_type'] = 'display_data';\n",
       "          await google.colab.output.renderOutput(dataTable, element);\n",
       "          const docLink = document.createElement('div');\n",
       "          docLink.innerHTML = docLinkHtml;\n",
       "          element.appendChild(docLink);\n",
       "        }\n",
       "      </script>\n",
       "    </div>\n",
       "  </div>\n",
       "  "
      ],
      "text/plain": [
       "   year  month  day\n",
       "0  2014     10  286\n",
       "1  2014     12  343\n",
       "2  2015      2   56\n",
       "3  2014     12  343\n",
       "4  2015      2   49"
      ]
     },
     "execution_count": 10,
     "metadata": {},
     "output_type": "execute_result"
    }
   ],
   "source": [
    "df_train3.head()"
   ]
  },
  {
   "cell_type": "markdown",
   "metadata": {
    "id": "ErvUiSLukKS2"
   },
   "source": [
    "Encontramos algunos datos interesantes.\n",
    "\n",
    " - la variable *bathrooms* es float, no podemos tener 2.5 baños o 0.75 baños.\n",
    " - Las casas tienen por promedio 3 habitaciones y 2 baños \n",
    " - Las casas en promedio fueron construidas en 1971 \n",
    " - La condición de las casas se encuentra en promedio en 3, es decir, regular.\n",
    " - el 95% de las casas no han sido renovadas.\n",
    " - También observe que float era float lo converti a integer para su categorización.\n",
    "\n",
    "Estos datos previo a realizar nos permite conocerer la categorización de las variables, como se comportan algunas y como mejorar su estructura para encontrar un mejor modelo. \n",
    "\n",
    "Solución:\n",
    "  - redondeamos los registros de la columna ***bathrooms*** en nuestro dataframe.\n",
    "  - Como el 95% de los datos de la variable ***yr_renovated*** son 0 ya que no han renovado sus hogares decidi eliminar la variable por un nivel alto de carnalidad, por lo tanto referira posibles problemas como en la dimensión de los datos o predictibilidad. "
   ]
  },
  {
   "cell_type": "code",
   "execution_count": 11,
   "metadata": {
    "colab": {
     "base_uri": "https://localhost:8080/"
    },
    "id": "OOzwkgDW-GqV",
    "outputId": "343058ae-72ec-4e47-b709-a6337616f4e1"
   },
   "outputs": [
    {
     "name": "stdout",
     "output_type": "stream",
     "text": [
      "Freuency bathroom description:\n",
      "2    13851\n",
      "1     3933\n",
      "3     2527\n",
      "4     1201\n",
      "5       57\n",
      "6       24\n",
      "0       14\n",
      "8        4\n",
      "7        2\n",
      "Name: bathrooms, dtype: int64\n"
     ]
    }
   ],
   "source": [
    "df[\"bathrooms\"] = df['bathrooms'].round(0).astype(int)\n",
    "\n",
    "print(\"Freuency bathroom description:\")\n",
    "print(df[\"bathrooms\"].value_counts())\n"
   ]
  },
  {
   "cell_type": "code",
   "execution_count": 12,
   "metadata": {
    "colab": {
     "base_uri": "https://localhost:8080/"
    },
    "id": "3lGg0bW_MwQa",
    "outputId": "e79f371e-da55-4009-a063-536810683301"
   },
   "outputs": [
    {
     "data": {
      "text/plain": [
       "0.000000     13126\n",
       "55.741800      221\n",
       "65.032100      218\n",
       "46.451500      214\n",
       "74.322400      206\n",
       "             ...  \n",
       "48.123754        1\n",
       "34.745722        1\n",
       "72.835952        1\n",
       "84.170118        1\n",
       "23.039944        1\n",
       "Name: m_basement, Length: 306, dtype: int64"
      ]
     },
     "execution_count": 12,
     "metadata": {},
     "output_type": "execute_result"
    }
   ],
   "source": [
    "df['m_basement'].value_counts() "
   ]
  },
  {
   "cell_type": "code",
   "execution_count": 13,
   "metadata": {
    "id": "0gYq13WAS3n3"
   },
   "outputs": [],
   "source": [
    "df.floors = df.floors.astype(int)"
   ]
  },
  {
   "cell_type": "markdown",
   "metadata": {
    "id": "YSMu-L9GDq3n"
   },
   "source": [
    "Algunos gráficos para interpretar mejor los datos de ciertas variables."
   ]
  },
  {
   "cell_type": "markdown",
   "metadata": {
    "id": "xQ0N26OnDquV"
   },
   "source": [
    "conocemos la distribucion de la variable independiente.\n",
    "\n",
    "- La distribución se encuentrta entre 0 y 3. Es decir que los precios van desde \\$0.00 hasta \\$300,000.00"
   ]
  },
  {
   "cell_type": "code",
   "execution_count": 14,
   "metadata": {
    "colab": {
     "base_uri": "https://localhost:8080/",
     "height": 350
    },
    "id": "_0dX7Q71B6B3",
    "outputId": "1a61e018-1f40-4fc1-c944-10a7ffe1de27"
   },
   "outputs": [
    {
     "name": "stderr",
     "output_type": "stream",
     "text": [
      "/usr/local/lib/python3.7/dist-packages/seaborn/distributions.py:2619: FutureWarning: `distplot` is a deprecated function and will be removed in a future version. Please adapt your code to use either `displot` (a figure-level function with similar flexibility) or `histplot` (an axes-level function for histograms).\n",
      "  warnings.warn(msg, FutureWarning)\n"
     ]
    },
    {
     "data": {
      "image/png": "[encoded data removed]",
      "text/plain": [
       "<Figure size 432x288 with 1 Axes>"
      ]
     },
     "metadata": {
      "needs_background": "light"
     },
     "output_type": "display_data"
    }
   ],
   "source": [
    "plt.title('Price Distribuition')\n",
    "sns.distplot(df[\"price\"])\n",
    "\n",
    "plt.show()"
   ]
  },
  {
   "cell_type": "code",
   "execution_count": 16,
   "metadata": {
    "colab": {
     "base_uri": "https://localhost:8080/",
     "height": 515
    },
    "id": "GrCxLdkcthtq",
    "outputId": "881946f3-6766-48c0-ccbd-bd90017589c4"
   },
   "outputs": [
    {
     "data": {
      "image/png": "[encoded data removed]",
      "text/plain": [
       "<Figure size 864x576 with 2 Axes>"
      ]
     },
     "metadata": {
      "needs_background": "light"
     },
     "output_type": "display_data"
    }
   ],
   "source": [
    "plt.figure(figsize = (12, 8))\n",
    "ax1 = plt.subplot(121)\n",
    "sns.countplot(x= \"bedrooms\" ,data=df, order=df['bedrooms'].value_counts().index)\n",
    "\n",
    "ax1 = plt.subplot(122)\n",
    "ax1 = sns.countplot(x=\"bathrooms\", data=df,\n",
    "                    ax=ax1)\n",
    "ax1.set_xticklabels(ax1.get_xticklabels(),rotation=90)\n",
    "ax1.set_title(\"Bathrooms counting\", fontsize=15)\n",
    "ax1.set_xlabel(\"Bathrooms number\")\n",
    "ax1.set_xlabel(\"count\")\n",
    "plt.show()"
   ]
  },
  {
   "cell_type": "markdown",
   "metadata": {
    "id": "hZmuIJItGe3Y"
   },
   "source": [
    "En la siguiente bloque realice lo siguiente: \n",
    "1. Elimine las variables con las cuales no trabajaré en mi modelo \n",
    "2. Agrupe en una categoría las casas que tienen más de 5 habitaciones\n",
    "3. Split a los datos train/test\n",
    "4. Transforme las variables categóricas\n",
    "5. Aplique escalado de datos a las variables númericas."
   ]
  },
  {
   "cell_type": "code",
   "execution_count": 17,
   "metadata": {
    "colab": {
     "base_uri": "https://localhost:8080/",
     "height": 206
    },
    "id": "JuWmKhyZGkYe",
    "outputId": "580352ee-bf06-42b6-832c-6674d75c9589"
   },
   "outputs": [
    {
     "data": {
      "text/html": [
       "\n",
       "  <div id=\"df-68225311-1a78-4935-a5a4-3c5005e11876\">\n",
       "    <div class=\"colab-df-container\">\n",
       "      <div>\n",
       "<style scoped>\n",
       "    .dataframe tbody tr th:only-of-type {\n",
       "        vertical-align: middle;\n",
       "    }\n",
       "\n",
       "    .dataframe tbody tr th {\n",
       "        vertical-align: top;\n",
       "    }\n",
       "\n",
       "    .dataframe thead th {\n",
       "        text-align: right;\n",
       "    }\n",
       "</style>\n",
       "<table border=\"1\" class=\"dataframe\">\n",
       "  <thead>\n",
       "    <tr style=\"text-align: right;\">\n",
       "      <th></th>\n",
       "      <th>price</th>\n",
       "      <th>bedrooms</th>\n",
       "      <th>bathrooms</th>\n",
       "      <th>m_living</th>\n",
       "      <th>m_lot</th>\n",
       "      <th>floors</th>\n",
       "      <th>waterfront</th>\n",
       "      <th>view</th>\n",
       "      <th>condition</th>\n",
       "      <th>grade</th>\n",
       "      <th>m_above</th>\n",
       "      <th>m_basement</th>\n",
       "      <th>yr_built</th>\n",
       "      <th>m_living15</th>\n",
       "      <th>m_lot15</th>\n",
       "    </tr>\n",
       "  </thead>\n",
       "  <tbody>\n",
       "    <tr>\n",
       "      <th>0</th>\n",
       "      <td>221900.0</td>\n",
       "      <td>3</td>\n",
       "      <td>1</td>\n",
       "      <td>109.62554</td>\n",
       "      <td>524.901950</td>\n",
       "      <td>1</td>\n",
       "      <td>0</td>\n",
       "      <td>0</td>\n",
       "      <td>3</td>\n",
       "      <td>7</td>\n",
       "      <td>109.62554</td>\n",
       "      <td>0.00000</td>\n",
       "      <td>1955</td>\n",
       "      <td>124.49002</td>\n",
       "      <td>524.901950</td>\n",
       "    </tr>\n",
       "    <tr>\n",
       "      <th>1</th>\n",
       "      <td>538000.0</td>\n",
       "      <td>3</td>\n",
       "      <td>2</td>\n",
       "      <td>238.76071</td>\n",
       "      <td>672.803526</td>\n",
       "      <td>2</td>\n",
       "      <td>0</td>\n",
       "      <td>0</td>\n",
       "      <td>3</td>\n",
       "      <td>7</td>\n",
       "      <td>201.59951</td>\n",
       "      <td>37.16120</td>\n",
       "      <td>1951</td>\n",
       "      <td>157.00607</td>\n",
       "      <td>709.686017</td>\n",
       "    </tr>\n",
       "    <tr>\n",
       "      <th>2</th>\n",
       "      <td>180000.0</td>\n",
       "      <td>2</td>\n",
       "      <td>1</td>\n",
       "      <td>71.53531</td>\n",
       "      <td>929.030000</td>\n",
       "      <td>1</td>\n",
       "      <td>0</td>\n",
       "      <td>0</td>\n",
       "      <td>3</td>\n",
       "      <td>6</td>\n",
       "      <td>71.53531</td>\n",
       "      <td>0.00000</td>\n",
       "      <td>1933</td>\n",
       "      <td>252.69616</td>\n",
       "      <td>748.983986</td>\n",
       "    </tr>\n",
       "    <tr>\n",
       "      <th>3</th>\n",
       "      <td>604000.0</td>\n",
       "      <td>4</td>\n",
       "      <td>3</td>\n",
       "      <td>182.08988</td>\n",
       "      <td>464.515000</td>\n",
       "      <td>1</td>\n",
       "      <td>0</td>\n",
       "      <td>0</td>\n",
       "      <td>5</td>\n",
       "      <td>7</td>\n",
       "      <td>97.54815</td>\n",
       "      <td>84.54173</td>\n",
       "      <td>1965</td>\n",
       "      <td>126.34808</td>\n",
       "      <td>464.515000</td>\n",
       "    </tr>\n",
       "    <tr>\n",
       "      <th>4</th>\n",
       "      <td>510000.0</td>\n",
       "      <td>3</td>\n",
       "      <td>2</td>\n",
       "      <td>156.07704</td>\n",
       "      <td>750.656240</td>\n",
       "      <td>1</td>\n",
       "      <td>0</td>\n",
       "      <td>0</td>\n",
       "      <td>3</td>\n",
       "      <td>8</td>\n",
       "      <td>156.07704</td>\n",
       "      <td>0.00000</td>\n",
       "      <td>1987</td>\n",
       "      <td>167.22540</td>\n",
       "      <td>697.051209</td>\n",
       "    </tr>\n",
       "  </tbody>\n",
       "</table>\n",
       "</div>\n",
       "      <button class=\"colab-df-convert\" onclick=\"convertToInteractive('df-68225311-1a78-4935-a5a4-3c5005e11876')\"\n",
       "              title=\"Convert this dataframe to an interactive table.\"\n",
       "              style=\"display:none;\">\n",
       "        \n",
       "  <svg xmlns=\"http://www.w3.org/2000/svg\" height=\"24px\"viewBox=\"0 0 24 24\"\n",
       "       width=\"24px\">\n",
       "    <path d=\"M0 0h24v24H0V0z\" fill=\"none\"/>\n",
       "    <path d=\"M18.56 5.44l.94 2.06.94-2.06 2.06-.94-2.06-.94-.94-2.06-.94 2.06-2.06.94zm-11 1L8.5 8.5l.94-2.06 2.06-.94-2.06-.94L8.5 2.5l-.94 2.06-2.06.94zm10 10l.94 2.06.94-2.06 2.06-.94-2.06-.94-.94-2.06-.94 2.06-2.06.94z\"/><path d=\"M17.41 7.96l-1.37-1.37c-.4-.4-.92-.59-1.43-.59-.52 0-1.04.2-1.43.59L10.3 9.45l-7.72 7.72c-.78.78-.78 2.05 0 2.83L4 21.41c.39.39.9.59 1.41.59.51 0 1.02-.2 1.41-.59l7.78-7.78 2.81-2.81c.8-.78.8-2.07 0-2.86zM5.41 20L4 18.59l7.72-7.72 1.47 1.35L5.41 20z\"/>\n",
       "  </svg>\n",
       "      </button>\n",
       "      \n",
       "  <style>\n",
       "    .colab-df-container {\n",
       "      display:flex;\n",
       "      flex-wrap:wrap;\n",
       "      gap: 12px;\n",
       "    }\n",
       "\n",
       "    .colab-df-convert {\n",
       "      background-color: #E8F0FE;\n",
       "      border: none;\n",
       "      border-radius: 50%;\n",
       "      cursor: pointer;\n",
       "      display: none;\n",
       "      fill: #1967D2;\n",
       "      height: 32px;\n",
       "      padding: 0 0 0 0;\n",
       "      width: 32px;\n",
       "    }\n",
       "\n",
       "    .colab-df-convert:hover {\n",
       "      background-color: #E2EBFA;\n",
       "      box-shadow: 0px 1px 2px rgba(60, 64, 67, 0.3), 0px 1px 3px 1px rgba(60, 64, 67, 0.15);\n",
       "      fill: #174EA6;\n",
       "    }\n",
       "\n",
       "    [theme=dark] .colab-df-convert {\n",
       "      background-color: #3B4455;\n",
       "      fill: #D2E3FC;\n",
       "    }\n",
       "\n",
       "    [theme=dark] .colab-df-convert:hover {\n",
       "      background-color: #434B5C;\n",
       "      box-shadow: 0px 1px 3px 1px rgba(0, 0, 0, 0.15);\n",
       "      filter: drop-shadow(0px 1px 2px rgba(0, 0, 0, 0.3));\n",
       "      fill: #FFFFFF;\n",
       "    }\n",
       "  </style>\n",
       "\n",
       "      <script>\n",
       "        const buttonEl =\n",
       "          document.querySelector('#df-68225311-1a78-4935-a5a4-3c5005e11876 button.colab-df-convert');\n",
       "        buttonEl.style.display =\n",
       "          google.colab.kernel.accessAllowed ? 'block' : 'none';\n",
       "\n",
       "        async function convertToInteractive(key) {\n",
       "          const element = document.querySelector('#df-68225311-1a78-4935-a5a4-3c5005e11876');\n",
       "          const dataTable =\n",
       "            await google.colab.kernel.invokeFunction('convertToInteractive',\n",
       "                                                     [key], {});\n",
       "          if (!dataTable) return;\n",
       "\n",
       "          const docLinkHtml = 'Like what you see? Visit the ' +\n",
       "            '<a target=\"_blank\" href=https://colab.research.google.com/notebooks/data_table.ipynb>data table notebook</a>'\n",
       "            + ' to learn more about interactive tables.';\n",
       "          element.innerHTML = '';\n",
       "          dataTable['output_type'] = 'display_data';\n",
       "          await google.colab.output.renderOutput(dataTable, element);\n",
       "          const docLink = document.createElement('div');\n",
       "          docLink.innerHTML = docLinkHtml;\n",
       "          element.appendChild(docLink);\n",
       "        }\n",
       "      </script>\n",
       "    </div>\n",
       "  </div>\n",
       "  "
      ],
      "text/plain": [
       "      price  bedrooms  bathrooms   m_living       m_lot  floors  waterfront  \\\n",
       "0  221900.0         3          1  109.62554  524.901950       1           0   \n",
       "1  538000.0         3          2  238.76071  672.803526       2           0   \n",
       "2  180000.0         2          1   71.53531  929.030000       1           0   \n",
       "3  604000.0         4          3  182.08988  464.515000       1           0   \n",
       "4  510000.0         3          2  156.07704  750.656240       1           0   \n",
       "\n",
       "   view  condition  grade    m_above  m_basement  yr_built  m_living15  \\\n",
       "0     0          3      7  109.62554     0.00000      1955   124.49002   \n",
       "1     0          3      7  201.59951    37.16120      1951   157.00607   \n",
       "2     0          3      6   71.53531     0.00000      1933   252.69616   \n",
       "3     0          5      7   97.54815    84.54173      1965   126.34808   \n",
       "4     0          3      8  156.07704     0.00000      1987   167.22540   \n",
       "\n",
       "      m_lot15  \n",
       "0  524.901950  \n",
       "1  709.686017  \n",
       "2  748.983986  \n",
       "3  464.515000  \n",
       "4  697.051209  "
      ]
     },
     "execution_count": 17,
     "metadata": {},
     "output_type": "execute_result"
    }
   ],
   "source": [
    "# Eliminamos las columnas que no trabajaremos en el modelo.\n",
    "drop_cols = ['id', 'zipcode', 'lat', 'long', 'yr_renovated', 'year', 'month', 'day']\n",
    "df.drop(drop_cols, axis=1, inplace = True)\n",
    "X = df.drop(\"price\",axis=1)\n",
    "y = df[\"price\"]\n",
    "df.head()\n"
   ]
  },
  {
   "cell_type": "code",
   "execution_count": 18,
   "metadata": {
    "id": "Wk-U8koeNHLP"
   },
   "outputs": [],
   "source": [
    "# Split train/test\n",
    "X_train, X_test, y_train, y_test = train_test_split(X, y, test_size = 0.20, random_state=42)\n",
    "\n",
    "# Agrupamos las variables por categóricas y númericas\n",
    "cat_cols = ['bedrooms', 'bathrooms', 'floors', 'waterfront', 'view', 'condition', 'grade']\n",
    "num_cols = ['m_living', 'm_lot', 'm_above', 'm_basement', 'm_living15', 'm_lot15']\n",
    "\n",
    "# Escalado de datos\n",
    "r = RobustScaler()\n",
    "r.fit(X_train[num_cols])\n",
    "x_train_num_scaled = r.transform(X_train[num_cols])\n",
    "x_test_num_scaled = r.transform(X_test[num_cols])\n",
    "\n",
    "# Categorización de datos \n",
    "o = OneHotEncoder(sparse=False, handle_unknown='ignore')\n",
    "o.fit(X_train[cat_cols])\n",
    "x_train_cat_encoded = o.transform(X_train[cat_cols])\n",
    "x_test_cat_encoded = o.transform(X_test[cat_cols])\n",
    "\n",
    "# concatenate \n",
    "df_train_concatenate = pd.DataFrame(np.concatenate((x_train_num_scaled, x_train_cat_encoded), axis=1))\n",
    "df_test_concatenate  = pd.DataFrame(np.concatenate((x_test_num_scaled, x_test_cat_encoded), axis=1))\n",
    "\n"
   ]
  },
  {
   "cell_type": "markdown",
   "metadata": {
    "id": "Xb2C9SGfw1Z4"
   },
   "source": [
    "#Resultados \n",
    "\n",
    "Para los dos primeros tipos de algoritmos se realizo un modelo **(modelo1)** con los parámetros en default y un **(modelo2)** en el cual se aplico RandomizedSearch para poder encontrar los mejores parámetros, una vez los tenemos los seleccionamos y generamos un nuevo modelo con ellos. Pasamos a evaluar modelo1 vs modelo2 seleccionamos el que tenga mejor precisión y encontramos su r2. \n",
    "\n",
    "## Decision tree \n",
    "\n",
    "Para el primer algoritmo se selecciono el **modelo2** ya que tiene mejores parametros. \n",
    "\n",
    "* El primer modelo cuenta con underfitting\n",
    "* Al aplicar hiperparámetros mimizamos el overfitting \n",
    "* Mantiene una precisión más alta que Gradient boosting pero un R2 más bajo.\n",
    "\n",
    "## Random forest\n",
    "\n",
    "Para el primer algoritmo se selecciono el **modelo1** ya que tiene mejores parametros. \n",
    "\n",
    "* El segundo modelo que contiene hiperparámetrosgenero overfitting \n",
    "* El nivel de precisión fue más alto con respecto al modelo2 y también un R2,\n",
    "\n",
    "\n",
    "## Gradient boosting \n",
    "\n",
    "* Generamos el modelo con decision tree. \n",
    "* El nivel de precisión es menor al de decision tree pero su R2 es más alto \n",
    "\n",
    "\n",
    "|Modelo|Accuracy|R2|Hiperpárametro|\n",
    "|-----|---------|---|---|\n",
    "|Decision Tree|72.98%|84.11%|Sí|\n",
    "|Random Forest|76.34|96.64%|Sí|\n",
    "|Gradient Boosting|70.36%|79.67%|No|\n",
    "|Ada Boost|28.78%|56%.19|No|\n",
    "\n",
    "# Conclusiones \n",
    "\n",
    "1. El modelo con mayor precisión y r2 es el Random Forest con parámetros en default. \n",
    "2. Se debe aplicar logaritmos porque genera imprecisiones en el modelo.\n",
    "3. Las variables más importantes son grade, m_living y yr_build. \n"
   ]
  },
  {
   "cell_type": "markdown",
   "metadata": {
    "id": "B1fdZL_3qD0-"
   },
   "source": [
    "# Decision Tree Regressor "
   ]
  },
  {
   "cell_type": "markdown",
   "metadata": {
    "id": "5MAXVlYDqJx1"
   },
   "source": [
    "Como queremos estimar el precio de una casa en función a distintas carácteristicas aplico un modelo supervisado de arboles de decisiones *regressor*. \n",
    "\n",
    "En esta sección se trabajo con dos modelos **modelo1** (DecisionTree con parámetros en default) vs **modelo2**(DecisionTree con algunos hyperparameters).\n",
    "\n",
    "- Verificamos el over y under fit, R2 y precisión del modelo1.\n",
    "- Verificamos R2 y precisión del modelo2\n",
    "\n"
   ]
  },
  {
   "cell_type": "code",
   "execution_count": 21,
   "metadata": {
    "colab": {
     "base_uri": "https://localhost:8080/"
    },
    "id": "vnwf66BMWV5h",
    "outputId": "062120df-a704-484a-83e5-f13f8dc36ad8"
   },
   "outputs": [
    {
     "name": "stdout",
     "output_type": "stream",
     "text": [
      "{'criterion': ['squared_error', 'friedman_mse', 'absolute_error'], 'max_depth': [10, 20, 30, 40, 50, 60, 70, 80, 90, 100, 110, None], 'max_features': ['auto', 'sqrt']}\n"
     ]
    }
   ],
   "source": [
    "\"\"\"\n",
    "En esta sección creamos las variables para los parámetros con sus respectivas configuraciones\n",
    "\"\"\"\n",
    "\n",
    "# Criterion\n",
    "criterion_dt = ['squared_error', 'friedman_mse','absolute_error']\n",
    "\n",
    "# Maximum number of levels in tree\n",
    "max_depth_dt = [int(x) for x in np.linspace(10, 110, num = 11)]\n",
    "max_depth_dt.append(None)\n",
    "\n",
    "# Number of features to consider at every split\n",
    "max_features_dt = ['auto', 'sqrt']\n",
    "\n",
    "# Create the random grind \n",
    "random_grid_dt = {'criterion': criterion_dt,\n",
    "               'max_depth': max_depth_dt,\n",
    "               'max_features': max_features_dt}\n",
    "print(random_grid_dt)"
   ]
  },
  {
   "cell_type": "code",
   "execution_count": 22,
   "metadata": {
    "colab": {
     "base_uri": "https://localhost:8080/"
    },
    "id": "P8STl1BiX6d9",
    "outputId": "1c366447-f0e3-447c-aba1-499920d9770b"
   },
   "outputs": [
    {
     "name": "stdout",
     "output_type": "stream",
     "text": [
      "Fitting 3 folds for each of 72 candidates, totalling 216 fits\n"
     ]
    },
    {
     "data": {
      "text/plain": [
       "RandomizedSearchCV(cv=3, estimator=DecisionTreeRegressor(random_state=42),\n",
       "                   n_iter=72, n_jobs=4,\n",
       "                   param_distributions={'criterion': ['squared_error',\n",
       "                                                      'friedman_mse',\n",
       "                                                      'absolute_error'],\n",
       "                                        'max_depth': [10, 20, 30, 40, 50, 60,\n",
       "                                                      70, 80, 90, 100, 110,\n",
       "                                                      None],\n",
       "                                        'max_features': ['auto', 'sqrt']},\n",
       "                   random_state=42, verbose=2)"
      ]
     },
     "execution_count": 22,
     "metadata": {},
     "output_type": "execute_result"
    }
   ],
   "source": [
    "# RandomGrid para buscar los mejores parámetros\n",
    "from sklearn.tree import plot_tree\n",
    "# Modelo base \n",
    "hyper_dt = DecisionTreeRegressor(random_state=42)\n",
    "# 3 fold cross validation, \n",
    "# 72 combnaciones para encontrar el mejor resultado\n",
    "dt_Random = RandomizedSearchCV(estimator = hyper_dt, param_distributions = random_grid_dt, n_iter = 72, cv = 3, verbose=2, random_state=42, n_jobs = 4)\n",
    "# Fit random model\n",
    "dt_Random.fit(X_train, y_train)"
   ]
  },
  {
   "cell_type": "code",
   "execution_count": 23,
   "metadata": {
    "colab": {
     "base_uri": "https://localhost:8080/"
    },
    "id": "QBhkgMArfI6f",
    "outputId": "b8730476-f594-47cd-cb8d-68414a3b2ffe"
   },
   "outputs": [
    {
     "name": "stdout",
     "output_type": "stream",
     "text": [
      "Model Perfomance\n",
      "Aaverage Error: 163514.8923.degrees.\n",
      "Accuracy = 68.13%.\n",
      "Model Perfomance\n",
      "Aaverage Error: 139143.3418.degrees.\n",
      "Accuracy = 72.98%.\n",
      "Improvement of 7.12%.\n"
     ]
    }
   ],
   "source": [
    "# Función para evaluuar los modelos \n",
    "def evaluate(model1, x_test, y_test):\n",
    "  predictions = model1.predict(X_test)\n",
    "  errors = abs(predictions - y_test)\n",
    "  mape = 100 * np.mean(errors / y_test)\n",
    "  accuracy = 100 - mape \n",
    "  print('Model Perfomance')\n",
    "  print('Aaverage Error: {:0.4f}.degrees.'.format(np.mean(errors)))\n",
    "  print('Accuracy = {:0.2f}%.'.format(accuracy))\n",
    "\n",
    "  return accuracy\n",
    "\n",
    "# Perfomance del modelo\n",
    "base_model_dt = DecisionTreeRegressor(random_state=42)\n",
    "base_model_dt.fit(X_train, y_train)\n",
    "base_accuracy_dt = evaluate(base_model_dt, X_test, y_test)\n",
    "\n",
    "# Perfomance del modelo con randomizedsearchcv\n",
    "best_random_dt = dt_Random.best_estimator_\n",
    "random_accuracy_dt = evaluate(best_random_dt, X_test, y_test)\n",
    "\n",
    "\n",
    "print('Improvement of {:0.2f}%.'.format( 100 * (random_accuracy_dt - base_accuracy_dt) / base_accuracy_dt))\n"
   ]
  },
  {
   "cell_type": "code",
   "execution_count": 24,
   "metadata": {
    "colab": {
     "base_uri": "https://localhost:8080/"
    },
    "id": "YzW5ndXtgPCB",
    "outputId": "1c42113f-6fc8-4955-b1d2-b3e015cd528e"
   },
   "outputs": [
    {
     "data": {
      "text/plain": [
       "{'criterion': 'squared_error', 'max_depth': 10, 'max_features': 'auto'}"
      ]
     },
     "execution_count": 24,
     "metadata": {},
     "output_type": "execute_result"
    }
   ],
   "source": [
    "# Resaltamos los mejores parámetros\n",
    "dt_Random.best_params_\n"
   ]
  },
  {
   "cell_type": "code",
   "execution_count": 25,
   "metadata": {
    "id": "w_LLkJg6hBP7"
   },
   "outputs": [],
   "source": [
    "# Seleccionamos los mejores parametros \n",
    "\n",
    "dt_param_grid = {'criterion': ['squared_error'], \n",
    "              'max_depth': [10], \n",
    "              'max_features': ['auto']}\n",
    "rf = DecisionTreeRegressor(random_state=42)\n",
    "\n",
    "# Aplicamos GridSearch con los parámetros. En este caso,\n",
    "# \n",
    "\n",
    "dt_grid_search = GridSearchCV(estimator = rf, param_grid = dt_param_grid, cv = 3, n_jobs = 4, verbose = 2)"
   ]
  },
  {
   "cell_type": "code",
   "execution_count": 27,
   "metadata": {
    "colab": {
     "base_uri": "https://localhost:8080/"
    },
    "id": "irQk66-XjM18",
    "outputId": "a0fa1355-0fa1-4e52-abf8-1b9b22f68903"
   },
   "outputs": [
    {
     "name": "stdout",
     "output_type": "stream",
     "text": [
      "Fitting 3 folds for each of 1 candidates, totalling 3 fits\n"
     ]
    },
    {
     "data": {
      "text/plain": [
       "{'criterion': 'squared_error', 'max_depth': 10, 'max_features': 'auto'}"
      ]
     },
     "execution_count": 27,
     "metadata": {},
     "output_type": "execute_result"
    }
   ],
   "source": [
    "# Fit grid search \n",
    "dt_grid_search.fit(X_train, y_train)\n",
    "dt_grid_search.best_params_"
   ]
  },
  {
   "cell_type": "code",
   "execution_count": 28,
   "metadata": {
    "colab": {
     "base_uri": "https://localhost:8080/"
    },
    "id": "ZsK6apoXjiu6",
    "outputId": "a8fff1c5-a742-480f-ab8b-b606221ac777"
   },
   "outputs": [
    {
     "name": "stdout",
     "output_type": "stream",
     "text": [
      "Model Perfomance\n",
      "Aaverage Error: 139143.3418.degrees.\n",
      "Accuracy = 72.98%.\n",
      "Improvement of 7.12%.\n"
     ]
    }
   ],
   "source": [
    "# Evaluamos la perfomance del modelo con grid\n",
    "dt_best_grid = dt_grid_search.best_estimator_\n",
    "dt_grid_accuracy = evaluate(dt_best_grid, X_test, y_test)\n",
    "print('Improvement of {:0.2f}%.'.format( 100 * (dt_grid_accuracy - base_accuracy_dt) / base_accuracy_dt))\n"
   ]
  },
  {
   "cell_type": "code",
   "execution_count": 29,
   "metadata": {
    "colab": {
     "base_uri": "https://localhost:8080/"
    },
    "id": "zQv-J448pRZi",
    "outputId": "0ec370ed-5fe3-434f-fd3d-9b5f007e0000"
   },
   "outputs": [
    {
     "name": "stdout",
     "output_type": "stream",
     "text": [
      "0.8411125672854658\n"
     ]
    }
   ],
   "source": [
    "# Hallamos el R2 del modelo sleeccionado\n",
    "pred_train = dt_grid_search.predict(X_train)\n",
    "print (r2_score(y_train, pred_train))"
   ]
  },
  {
   "cell_type": "code",
   "execution_count": 31,
   "metadata": {
    "id": "5MEoS6KOsGX9"
   },
   "outputs": [],
   "source": [
    "# El primer modelo presenta underfitting\n",
    "md_list = []\n",
    "score_train_list = []\n",
    "score_test_list = []\n",
    "mse_train_list = []\n",
    "mse_test_list = []\n",
    "\n",
    "\n",
    "for maxdepth in list(range(1,100, 10)):\n",
    "  tree_model = DecisionTreeRegressor(random_state=0, max_depth=maxdepth)\n",
    "  tree_model.fit(X_train, y_train)\n",
    "\n",
    "  pred_train = tree_model.predict(X_train)\n",
    "  pred_test = tree_model.predict(X_test)\n",
    "\n",
    "  ## Generación de listas\n",
    "  md_list.append(maxdepth)\n",
    "  score_train_list.append(100.0*tree_model.score(X_train, y_train))\n",
    "  score_test_list.append(100.0*tree_model.score(X_test, y_test))\n",
    "  mse_train_list.append(mean_squared_error(y_train, pred_train))\n",
    "  mse_test_list.append(mean_squared_error(y_test, pred_test))\n",
    "\n",
    "df = pd.DataFrame({\"max_depth\":md_list, \n",
    "                   \"score_train\":score_train_list,\n",
    "                   \"score_test\":score_test_list,\n",
    "                   \"mse_train\":mse_train_list,\n",
    "                   \"mse_test\":mse_test_list\n",
    "                   })"
   ]
  },
  {
   "cell_type": "code",
   "execution_count": 32,
   "metadata": {
    "colab": {
     "base_uri": "https://localhost:8080/",
     "height": 309
    },
    "id": "La2VXT2esFin",
    "outputId": "58b78f2d-529d-4d9f-ed4f-6880673eb405"
   },
   "outputs": [
    {
     "data": {
      "image/png": "[encoded data removed]",
      "text/plain": [
       "<Figure size 432x288 with 1 Axes>"
      ]
     },
     "metadata": {
      "needs_background": "light"
     },
     "output_type": "display_data"
    }
   ],
   "source": [
    "df.set_index(\"max_depth\", inplace=True)\n",
    "df[\"mse_train\"].plot(label=\"Train Mean Squared Error\")\n",
    "df[\"mse_test\"].plot(label=\"Test Mean Squared Error\")\n",
    "plt.suptitle(\"Overfitting vs Underfitting\")\n",
    "plt.legend()\n",
    "plt.show();"
   ]
  },
  {
   "cell_type": "markdown",
   "metadata": {
    "id": "82rdbFwKrShF"
   },
   "source": [
    "# Random Forest "
   ]
  },
  {
   "cell_type": "code",
   "execution_count": 33,
   "metadata": {
    "colab": {
     "base_uri": "https://localhost:8080/"
    },
    "id": "OCyf_RxUwJWZ",
    "outputId": "d451c96e-9094-4b2a-e349-d6f7db5b2f79"
   },
   "outputs": [
    {
     "name": "stdout",
     "output_type": "stream",
     "text": [
      "Precisión sobre los datos de entrenamiento: 96.64\n",
      "Precisión sobre los datos de test: 71.43\n"
     ]
    }
   ],
   "source": [
    "# entrenamos el modelo RF base y conocemos su R2\n",
    "\n",
    "from sklearn.ensemble import RandomForestRegressor\n",
    "rf_model = RandomForestRegressor(random_state=42)\n",
    "rf_model.fit(X_train, y_train)\n",
    "pred_train = rf_model.predict(X_train)\n",
    "pred_test = rf_model.predict(X_test)\n",
    "print(\"Precisión sobre los datos de entrenamiento: {:.2f}\".format(100.0*rf_model.score(X_train, y_train)))\n",
    "print(\"Precisión sobre los datos de test: {:.2f}\".format(100.0*rf_model.score(X_test, y_test)))"
   ]
  },
  {
   "cell_type": "code",
   "execution_count": null,
   "metadata": {
    "colab": {
     "base_uri": "https://localhost:8080/"
    },
    "id": "WwoJIpo5N2Es",
    "outputId": "f5522405-425d-4b15-b8bf-fd6d7e520ab2"
   },
   "outputs": [
    {
     "name": "stdout",
     "output_type": "stream",
     "text": [
      "{'bootstrap': [True, False],\n",
      " 'max_depth': [10, 20, 30, 40, 50, 60, 70, 80, 90, 100, 110, None],\n",
      " 'max_features': ['auto', 'sqrt'],\n",
      " 'min_samples_leaf': [1, 2, 4],\n",
      " 'min_samples_split': [2, 5, 10],\n",
      " 'n_estimators': [10, 22, 34, 46, 58, 71, 83, 95, 107, 120]}\n"
     ]
    }
   ],
   "source": [
    "# creamos los parametros para el hyper tunning\n",
    "# Number of trees in random forest\n",
    "est_list = [int(x) for x in np.linspace(start = 10, stop = 120, num = 10)]\n",
    "# Maximum number of levels in tree\n",
    "max_depth = [int(x) for x in np.linspace(10, 110, num = 11)]\n",
    "max_depth.append(None)\n",
    "# Number of features to consider at every split\n",
    "max_features = ['auto', 'sqrt']\n",
    "# Minimum number of samples required to split a node\n",
    "min_samples_split = [2, 5, 10]\n",
    "# Minimum number of samples required at each leaf node\n",
    "min_samples_leaf = [1, 2, 4]\n",
    "# Method of selecting samples for training each tree\n",
    "bootstrap = [True, False]\n",
    "\n",
    "# Create the random grid\n",
    "RF_grid = {'n_estimators': est_list,\n",
    "               'max_depth': max_depth,\n",
    "               'max_features': max_features,\n",
    "               'min_samples_split': min_samples_split,\n",
    "               'min_samples_leaf': min_samples_leaf,\n",
    "               'bootstrap': bootstrap}\n",
    "\n",
    "pprint(RF_grid)\n"
   ]
  },
  {
   "cell_type": "code",
   "execution_count": null,
   "metadata": {
    "colab": {
     "base_uri": "https://localhost:8080/"
    },
    "id": "g0JAGKWWPeRL",
    "outputId": "8a06531b-ba04-4772-ce57-b35a271ade61"
   },
   "outputs": [
    {
     "name": "stdout",
     "output_type": "stream",
     "text": [
      "Fitting 3 folds for each of 100 candidates, totalling 300 fits\n"
     ]
    },
    {
     "data": {
      "text/plain": [
       "RandomizedSearchCV(cv=3, estimator=RandomForestRegressor(), n_iter=100,\n",
       "                   n_jobs=4,\n",
       "                   param_distributions={'bootstrap': [True, False],\n",
       "                                        'max_depth': [10, 20, 30, 40, 50, 60,\n",
       "                                                      70, 80, 90, 100, 110,\n",
       "                                                      None],\n",
       "                                        'max_features': ['auto', 'sqrt'],\n",
       "                                        'min_samples_leaf': [1, 2, 4],\n",
       "                                        'min_samples_split': [2, 5, 10],\n",
       "                                        'n_estimators': [10, 22, 34, 46, 58, 71,\n",
       "                                                         83, 95, 107, 120]},\n",
       "                   random_state=42, verbose=2)"
      ]
     },
     "execution_count": 33,
     "metadata": {},
     "output_type": "execute_result"
    }
   ],
   "source": [
    "# Use the random grid to search for best hyperparameters\n",
    "# First create the base model to tune\n",
    "rf_model = RandomForestRegressor()\n",
    "# Random search of parameters, using 3 fold cross validation, \n",
    "# search across 100 different combinations, and use all available cores\n",
    "rf_random = RandomizedSearchCV(estimator = rf_model, param_distributions = random_grid, n_iter = 100, cv = 3, verbose=2, random_state=42, n_jobs = 4)\n",
    "# Fit the random search model\n",
    "rf_random.fit(X_train, y_train)"
   ]
  },
  {
   "cell_type": "code",
   "execution_count": null,
   "metadata": {
    "colab": {
     "base_uri": "https://localhost:8080/",
     "height": 444
    },
    "id": "ZOg3339pYMy7",
    "outputId": "98d75a8f-b67e-41bb-fcd0-e0cc1c7df09e"
   },
   "outputs": [
    {
     "data": {
      "text/html": [
       "\n",
       "  <div id=\"df-b9eede7e-7115-42a8-8553-90d0949608b0\">\n",
       "    <div class=\"colab-df-container\">\n",
       "      <div>\n",
       "<style scoped>\n",
       "    .dataframe tbody tr th:only-of-type {\n",
       "        vertical-align: middle;\n",
       "    }\n",
       "\n",
       "    .dataframe tbody tr th {\n",
       "        vertical-align: top;\n",
       "    }\n",
       "\n",
       "    .dataframe thead th {\n",
       "        text-align: right;\n",
       "    }\n",
       "</style>\n",
       "<table border=\"1\" class=\"dataframe\">\n",
       "  <thead>\n",
       "    <tr style=\"text-align: right;\">\n",
       "      <th></th>\n",
       "      <th>mean_fit_time</th>\n",
       "      <th>std_fit_time</th>\n",
       "      <th>mean_score_time</th>\n",
       "      <th>std_score_time</th>\n",
       "      <th>param_n_estimators</th>\n",
       "      <th>param_min_samples_split</th>\n",
       "      <th>param_min_samples_leaf</th>\n",
       "      <th>param_max_features</th>\n",
       "      <th>param_max_depth</th>\n",
       "      <th>param_bootstrap</th>\n",
       "      <th>params</th>\n",
       "      <th>split0_test_score</th>\n",
       "      <th>split1_test_score</th>\n",
       "      <th>split2_test_score</th>\n",
       "      <th>mean_test_score</th>\n",
       "      <th>std_test_score</th>\n",
       "      <th>rank_test_score</th>\n",
       "    </tr>\n",
       "  </thead>\n",
       "  <tbody>\n",
       "    <tr>\n",
       "      <th>32</th>\n",
       "      <td>3.977140</td>\n",
       "      <td>0.053242</td>\n",
       "      <td>0.216421</td>\n",
       "      <td>0.010712</td>\n",
       "      <td>46</td>\n",
       "      <td>5</td>\n",
       "      <td>1</td>\n",
       "      <td>sqrt</td>\n",
       "      <td>100</td>\n",
       "      <td>False</td>\n",
       "      <td>{'n_estimators': 46, 'min_samples_split': 5, '...</td>\n",
       "      <td>0.756772</td>\n",
       "      <td>0.762546</td>\n",
       "      <td>0.755018</td>\n",
       "      <td>0.758112</td>\n",
       "      <td>0.003216</td>\n",
       "      <td>1</td>\n",
       "    </tr>\n",
       "    <tr>\n",
       "      <th>21</th>\n",
       "      <td>8.948440</td>\n",
       "      <td>0.015917</td>\n",
       "      <td>0.475354</td>\n",
       "      <td>0.069703</td>\n",
       "      <td>95</td>\n",
       "      <td>5</td>\n",
       "      <td>1</td>\n",
       "      <td>sqrt</td>\n",
       "      <td>70</td>\n",
       "      <td>False</td>\n",
       "      <td>{'n_estimators': 95, 'min_samples_split': 5, '...</td>\n",
       "      <td>0.756065</td>\n",
       "      <td>0.767115</td>\n",
       "      <td>0.749196</td>\n",
       "      <td>0.757458</td>\n",
       "      <td>0.007382</td>\n",
       "      <td>2</td>\n",
       "    </tr>\n",
       "    <tr>\n",
       "      <th>24</th>\n",
       "      <td>7.360913</td>\n",
       "      <td>0.305711</td>\n",
       "      <td>0.370062</td>\n",
       "      <td>0.009915</td>\n",
       "      <td>83</td>\n",
       "      <td>5</td>\n",
       "      <td>1</td>\n",
       "      <td>sqrt</td>\n",
       "      <td>80</td>\n",
       "      <td>False</td>\n",
       "      <td>{'n_estimators': 83, 'min_samples_split': 5, '...</td>\n",
       "      <td>0.753016</td>\n",
       "      <td>0.766590</td>\n",
       "      <td>0.751548</td>\n",
       "      <td>0.757052</td>\n",
       "      <td>0.006772</td>\n",
       "      <td>3</td>\n",
       "    </tr>\n",
       "    <tr>\n",
       "      <th>46</th>\n",
       "      <td>22.921996</td>\n",
       "      <td>0.110169</td>\n",
       "      <td>0.471384</td>\n",
       "      <td>0.011509</td>\n",
       "      <td>120</td>\n",
       "      <td>2</td>\n",
       "      <td>2</td>\n",
       "      <td>auto</td>\n",
       "      <td>90</td>\n",
       "      <td>True</td>\n",
       "      <td>{'n_estimators': 120, 'min_samples_split': 2, ...</td>\n",
       "      <td>0.752902</td>\n",
       "      <td>0.763568</td>\n",
       "      <td>0.751700</td>\n",
       "      <td>0.756057</td>\n",
       "      <td>0.005334</td>\n",
       "      <td>4</td>\n",
       "    </tr>\n",
       "    <tr>\n",
       "      <th>67</th>\n",
       "      <td>15.845859</td>\n",
       "      <td>0.066250</td>\n",
       "      <td>0.315017</td>\n",
       "      <td>0.010540</td>\n",
       "      <td>83</td>\n",
       "      <td>2</td>\n",
       "      <td>2</td>\n",
       "      <td>auto</td>\n",
       "      <td>70</td>\n",
       "      <td>True</td>\n",
       "      <td>{'n_estimators': 83, 'min_samples_split': 2, '...</td>\n",
       "      <td>0.754012</td>\n",
       "      <td>0.762890</td>\n",
       "      <td>0.749900</td>\n",
       "      <td>0.755601</td>\n",
       "      <td>0.005421</td>\n",
       "      <td>5</td>\n",
       "    </tr>\n",
       "  </tbody>\n",
       "</table>\n",
       "</div>\n",
       "      <button class=\"colab-df-convert\" onclick=\"convertToInteractive('df-b9eede7e-7115-42a8-8553-90d0949608b0')\"\n",
       "              title=\"Convert this dataframe to an interactive table.\"\n",
       "              style=\"display:none;\">\n",
       "        \n",
       "  <svg xmlns=\"http://www.w3.org/2000/svg\" height=\"24px\"viewBox=\"0 0 24 24\"\n",
       "       width=\"24px\">\n",
       "    <path d=\"M0 0h24v24H0V0z\" fill=\"none\"/>\n",
       "    <path d=\"M18.56 5.44l.94 2.06.94-2.06 2.06-.94-2.06-.94-.94-2.06-.94 2.06-2.06.94zm-11 1L8.5 8.5l.94-2.06 2.06-.94-2.06-.94L8.5 2.5l-.94 2.06-2.06.94zm10 10l.94 2.06.94-2.06 2.06-.94-2.06-.94-.94-2.06-.94 2.06-2.06.94z\"/><path d=\"M17.41 7.96l-1.37-1.37c-.4-.4-.92-.59-1.43-.59-.52 0-1.04.2-1.43.59L10.3 9.45l-7.72 7.72c-.78.78-.78 2.05 0 2.83L4 21.41c.39.39.9.59 1.41.59.51 0 1.02-.2 1.41-.59l7.78-7.78 2.81-2.81c.8-.78.8-2.07 0-2.86zM5.41 20L4 18.59l7.72-7.72 1.47 1.35L5.41 20z\"/>\n",
       "  </svg>\n",
       "      </button>\n",
       "      \n",
       "  <style>\n",
       "    .colab-df-container {\n",
       "      display:flex;\n",
       "      flex-wrap:wrap;\n",
       "      gap: 12px;\n",
       "    }\n",
       "\n",
       "    .colab-df-convert {\n",
       "      background-color: #E8F0FE;\n",
       "      border: none;\n",
       "      border-radius: 50%;\n",
       "      cursor: pointer;\n",
       "      display: none;\n",
       "      fill: #1967D2;\n",
       "      height: 32px;\n",
       "      padding: 0 0 0 0;\n",
       "      width: 32px;\n",
       "    }\n",
       "\n",
       "    .colab-df-convert:hover {\n",
       "      background-color: #E2EBFA;\n",
       "      box-shadow: 0px 1px 2px rgba(60, 64, 67, 0.3), 0px 1px 3px 1px rgba(60, 64, 67, 0.15);\n",
       "      fill: #174EA6;\n",
       "    }\n",
       "\n",
       "    [theme=dark] .colab-df-convert {\n",
       "      background-color: #3B4455;\n",
       "      fill: #D2E3FC;\n",
       "    }\n",
       "\n",
       "    [theme=dark] .colab-df-convert:hover {\n",
       "      background-color: #434B5C;\n",
       "      box-shadow: 0px 1px 3px 1px rgba(0, 0, 0, 0.15);\n",
       "      filter: drop-shadow(0px 1px 2px rgba(0, 0, 0, 0.3));\n",
       "      fill: #FFFFFF;\n",
       "    }\n",
       "  </style>\n",
       "\n",
       "      <script>\n",
       "        const buttonEl =\n",
       "          document.querySelector('#df-b9eede7e-7115-42a8-8553-90d0949608b0 button.colab-df-convert');\n",
       "        buttonEl.style.display =\n",
       "          google.colab.kernel.accessAllowed ? 'block' : 'none';\n",
       "\n",
       "        async function convertToInteractive(key) {\n",
       "          const element = document.querySelector('#df-b9eede7e-7115-42a8-8553-90d0949608b0');\n",
       "          const dataTable =\n",
       "            await google.colab.kernel.invokeFunction('convertToInteractive',\n",
       "                                                     [key], {});\n",
       "          if (!dataTable) return;\n",
       "\n",
       "          const docLinkHtml = 'Like what you see? Visit the ' +\n",
       "            '<a target=\"_blank\" href=https://colab.research.google.com/notebooks/data_table.ipynb>data table notebook</a>'\n",
       "            + ' to learn more about interactive tables.';\n",
       "          element.innerHTML = '';\n",
       "          dataTable['output_type'] = 'display_data';\n",
       "          await google.colab.output.renderOutput(dataTable, element);\n",
       "          const docLink = document.createElement('div');\n",
       "          docLink.innerHTML = docLinkHtml;\n",
       "          element.appendChild(docLink);\n",
       "        }\n",
       "      </script>\n",
       "    </div>\n",
       "  </div>\n",
       "  "
      ],
      "text/plain": [
       "    mean_fit_time  std_fit_time  mean_score_time  std_score_time  \\\n",
       "32       3.977140      0.053242         0.216421        0.010712   \n",
       "21       8.948440      0.015917         0.475354        0.069703   \n",
       "24       7.360913      0.305711         0.370062        0.009915   \n",
       "46      22.921996      0.110169         0.471384        0.011509   \n",
       "67      15.845859      0.066250         0.315017        0.010540   \n",
       "\n",
       "   param_n_estimators param_min_samples_split param_min_samples_leaf  \\\n",
       "32                 46                       5                      1   \n",
       "21                 95                       5                      1   \n",
       "24                 83                       5                      1   \n",
       "46                120                       2                      2   \n",
       "67                 83                       2                      2   \n",
       "\n",
       "   param_max_features param_max_depth param_bootstrap  \\\n",
       "32               sqrt             100           False   \n",
       "21               sqrt              70           False   \n",
       "24               sqrt              80           False   \n",
       "46               auto              90            True   \n",
       "67               auto              70            True   \n",
       "\n",
       "                                               params  split0_test_score  \\\n",
       "32  {'n_estimators': 46, 'min_samples_split': 5, '...           0.756772   \n",
       "21  {'n_estimators': 95, 'min_samples_split': 5, '...           0.756065   \n",
       "24  {'n_estimators': 83, 'min_samples_split': 5, '...           0.753016   \n",
       "46  {'n_estimators': 120, 'min_samples_split': 2, ...           0.752902   \n",
       "67  {'n_estimators': 83, 'min_samples_split': 2, '...           0.754012   \n",
       "\n",
       "    split1_test_score  split2_test_score  mean_test_score  std_test_score  \\\n",
       "32           0.762546           0.755018         0.758112        0.003216   \n",
       "21           0.767115           0.749196         0.757458        0.007382   \n",
       "24           0.766590           0.751548         0.757052        0.006772   \n",
       "46           0.763568           0.751700         0.756057        0.005334   \n",
       "67           0.762890           0.749900         0.755601        0.005421   \n",
       "\n",
       "    rank_test_score  \n",
       "32                1  \n",
       "21                2  \n",
       "24                3  \n",
       "46                4  \n",
       "67                5  "
      ]
     },
     "execution_count": 34,
     "metadata": {},
     "output_type": "execute_result"
    }
   ],
   "source": [
    "# Encontramos el top 5 de los mejores modelos con los mejores parámetros \n",
    "all_results = pd.DataFrame(rf_random.cv_results_)\n",
    "all_results.sort_values(by = \"rank_test_score\").head(5)"
   ]
  },
  {
   "cell_type": "code",
   "execution_count": null,
   "metadata": {
    "colab": {
     "base_uri": "https://localhost:8080/"
    },
    "id": "82564CFginYl",
    "outputId": "3f446a7a-8cca-4aed-dc5c-5926ca5d75ca"
   },
   "outputs": [
    {
     "name": "stdout",
     "output_type": "stream",
     "text": [
      "Model Perfomance\n",
      "Aaverage Error: 120235.7242.degrees.\n",
      "Accuracy = 76.34%.\n",
      "Model Perfomance\n",
      "Aaverage Error: 120320.6944.degrees.\n",
      "Accuracy = 76.12%.\n",
      "-0.2995927575606512\n"
     ]
    }
   ],
   "source": [
    "\n",
    "# Perfomance del modelo\n",
    "rf_base_model = RandomForestRegressor(random_state=42)\n",
    "rf_base_model.fit(X_train, y_train)\n",
    "rf_base_accuracy = evaluate(rf_base_model, X_test, y_test)\n",
    "\n",
    "# Perfomance del modelo con randomizedsearchcv\n",
    "rf_best_random = rf_random.best_estimator_\n",
    "rf_random_accuracy = evaluate(rf_best_random, X_test, y_test)\n",
    "\n",
    "print((100*(rf_random_accuracy-rf_base_accuracy)/rf_base_accuracy))"
   ]
  },
  {
   "cell_type": "code",
   "execution_count": null,
   "metadata": {
    "colab": {
     "base_uri": "https://localhost:8080/"
    },
    "id": "o--s4a3RjZsn",
    "outputId": "b0105c7e-4142-4294-b2af-6ba93ac29b9c"
   },
   "outputs": [
    {
     "name": "stdout",
     "output_type": "stream",
     "text": [
      "0.9664386420380268\n"
     ]
    }
   ],
   "source": [
    "# Hallamos el r2 para el mejor modelo (default)\n",
    "pred_train = rf_base_model.predict(X_train)\n",
    "print (r2_score(y_train, pred_train))"
   ]
  },
  {
   "cell_type": "markdown",
   "metadata": {
    "id": "IwZcqNi8G4ZA"
   },
   "source": [
    "# Gradient Boosting"
   ]
  },
  {
   "cell_type": "code",
   "execution_count": null,
   "metadata": {
    "colab": {
     "base_uri": "https://localhost:8080/"
    },
    "id": "JKzkzASd8q7M",
    "outputId": "4903276d-457a-4c10-85d1-2e85dba7877a"
   },
   "outputs": [
    {
     "data": {
      "text/plain": [
       "GradientBoostingRegressor(random_state=42)"
      ]
     },
     "execution_count": 138,
     "metadata": {},
     "output_type": "execute_result"
    }
   ],
   "source": [
    "# Importamos la librería \n",
    "from sklearn.ensemble import GradientBoostingRegressor\n",
    "# Generamos el modelo\n",
    "gb_model = GradientBoostingRegressor(random_state=42)\n",
    "gb_model.fit(X_train, y_train)"
   ]
  },
  {
   "cell_type": "code",
   "execution_count": null,
   "metadata": {
    "colab": {
     "base_uri": "https://localhost:8080/"
    },
    "id": "eikxrjs56_sF",
    "outputId": "934b78a3-9821-4a9d-f927-131b0ba95b75"
   },
   "outputs": [
    {
     "name": "stdout",
     "output_type": "stream",
     "text": [
      "Precisión sobre los datos de entrenamiento: 79.67\n",
      "Precisión sobre los datos de test: 70.36\n"
     ]
    }
   ],
   "source": [
    "# Hallamos el nivel de precision del model\n",
    "pred_test_gb = gb_model.predict(X_test)\n",
    "pred_train_gb = gb_model.predict(X_train)\n",
    "print(\"Precisión sobre los datos de entrenamiento: {:.2f}\".format(100.0*gb_model.score(X_train, y_train)))\n",
    "print(\"Precisión sobre los datos de test: {:.2f}\".format(100.0*gb_model.score(X_test, y_test)))"
   ]
  },
  {
   "cell_type": "code",
   "execution_count": null,
   "metadata": {
    "colab": {
     "base_uri": "https://localhost:8080/",
     "height": 265
    },
    "id": "RFWPMtovHDQs",
    "outputId": "0a1c5867-0e4a-4bf4-b3f8-0d9cba8e331e"
   },
   "outputs": [
    {
     "data": {
      "image/png": "[encoded data removed]",
      "text/plain": [
       "<Figure size 432x288 with 1 Axes>"
      ]
     },
     "metadata": {
      "needs_background": "light"
     },
     "output_type": "display_data"
    }
   ],
   "source": [
    "# Conocemos las variables más importantes del modelo \n",
    "df_imp = pd.DataFrame(gb_model.feature_importances_.reshape(1,-1), columns=X_train.columns, index=[\"Feature Importances\"])\n",
    "df_imp.T.plot.barh()\n",
    "plt.legend()\n",
    "plt.show();"
   ]
  },
  {
   "cell_type": "code",
   "execution_count": null,
   "metadata": {
    "colab": {
     "base_uri": "https://localhost:8080/"
    },
    "id": "4j7w77VcHLs8",
    "outputId": "e6cdd621-2f1d-44e9-f22b-29167b32358f"
   },
   "outputs": [
    {
     "name": "stdout",
     "output_type": "stream",
     "text": [
      "0.7967487462569671\n"
     ]
    }
   ],
   "source": [
    "# Conocemos su r2 \n",
    "pred_train = gb_model.predict(X_train)\n",
    "print (r2_score(y_train, pred_train))"
   ]
  },
  {
   "cell_type": "markdown",
   "metadata": {
    "id": "L0hwX59H70JR"
   },
   "source": [
    "# Ada Boost"
   ]
  },
  {
   "cell_type": "code",
   "execution_count": null,
   "metadata": {
    "colab": {
     "base_uri": "https://localhost:8080/"
    },
    "id": "bA0EB2Au71cz",
    "outputId": "cdfd49f3-57c9-4197-eed3-72c371e96bf4"
   },
   "outputs": [
    {
     "name": "stdout",
     "output_type": "stream",
     "text": [
      "Precisión sobre los datos de entrenamiento: 28.56\n",
      "Precisión sobre los datos de test: 28.78\n"
     ]
    }
   ],
   "source": [
    "ada_model = AdaBoostRegressor(base_estimator=DecisionTreeRegressor(max_depth=2), random_state=0, n_estimators=100, learning_rate=0.8)\n",
    "ada_model.fit(X_train, y_train)\n",
    "pred_train = ada_model.predict(X_train)\n",
    "pred_test = ada_model.predict(X_test)\n",
    "print(\"Precisión sobre los datos de entrenamiento: {:.2f}\".format(100.0*ada_model.score(X_train, y_train)))\n",
    "print(\"Precisión sobre los datos de test: {:.2f}\".format(100.0*ada_model.score(X_test, y_test)))"
   ]
  },
  {
   "cell_type": "code",
   "execution_count": null,
   "metadata": {
    "colab": {
     "base_uri": "https://localhost:8080/"
    },
    "id": "pYCENSBs8G8D",
    "outputId": "2284fdff-c108-41ee-c689-b4b13f083f89"
   },
   "outputs": [
    {
     "data": {
      "text/plain": [
       "[81557638677.14238,\n",
       " 81557638677.14238,\n",
       " 83920114076.75241,\n",
       " 79551773811.49313,\n",
       " 75504879815.85333]"
      ]
     },
     "execution_count": 79,
     "metadata": {},
     "output_type": "execute_result"
    }
   ],
   "source": [
    "errors_test = [mean_squared_error(y_test, y_pred) for y_pred in ada_model.staged_predict(X_test)]\n",
    "errors_train = [mean_squared_error(y_train, y_pred) for y_pred in ada_model.staged_predict(X_train)]\n",
    "errors_test[0:5]"
   ]
  },
  {
   "cell_type": "code",
   "execution_count": null,
   "metadata": {
    "colab": {
     "base_uri": "https://localhost:8080/"
    },
    "id": "5QUh2Pwc8RnD",
    "outputId": "0d43e9ca-2f98-4086-8a96-0afbabd88714"
   },
   "outputs": [
    {
     "data": {
      "text/plain": [
       "5"
      ]
     },
     "execution_count": 80,
     "metadata": {},
     "output_type": "execute_result"
    }
   ],
   "source": [
    "best_n_AD = np.argmin(errors_test)\n",
    "best_n_AD"
   ]
  },
  {
   "cell_type": "code",
   "execution_count": null,
   "metadata": {
    "colab": {
     "base_uri": "https://localhost:8080/"
    },
    "id": "rMIRBg0Y8Y0r",
    "outputId": "77b884a7-7e1b-4f42-b2a7-c2f71dfec921"
   },
   "outputs": [
    {
     "name": "stdout",
     "output_type": "stream",
     "text": [
      "Precisión sobre los datos de entrenamiento: 56.19\n",
      "Precisión sobre los datos de test: 50.06\n"
     ]
    }
   ],
   "source": [
    "best_model = AdaBoostRegressor(base_estimator=DecisionTreeRegressor(max_depth=2), random_state=0, n_estimators=best_n_AD, learning_rate=0.8)\n",
    "best_model.fit(X_train, y_train)\n",
    "pred_train = best_model.predict(X_train)\n",
    "pred_test = best_model.predict(X_test)\n",
    "print(\"Precisión sobre los datos de entrenamiento: {:.2f}\".format(100.0*best_model.score(X_train, y_train)))\n",
    "print(\"Precisión sobre los datos de test: {:.2f}\".format(100.0*best_model.score(X_test, y_test)))\n"
   ]
  },
  {
   "cell_type": "code",
   "execution_count": null,
   "metadata": {
    "colab": {
     "base_uri": "https://localhost:8080/"
    },
    "id": "KZ7r1ydn8d7j",
    "outputId": "329a1857-13cd-4625-9a30-c68777b26669"
   },
   "outputs": [
    {
     "data": {
      "text/plain": [
       "[0.4605145365340927,\n",
       " 0.4605145365340927,\n",
       " 0.44488729233529,\n",
       " 0.47378288213907704,\n",
       " 0.5005521770604002]"
      ]
     },
     "execution_count": 83,
     "metadata": {},
     "output_type": "execute_result"
    }
   ],
   "source": [
    "from sklearn.metrics import r2_score\n",
    "r2_test = [r2_score(y_test, y_pred) for y_pred in ada_model.staged_predict(X_test)]\n",
    "r2_train = [r2_score(y_train, y_pred) for y_pred in ada_model.staged_predict(X_train)]\n",
    "r2_test[0:5]"
   ]
  },
  {
   "cell_type": "code",
   "execution_count": null,
   "metadata": {
    "colab": {
     "base_uri": "https://localhost:8080/"
    },
    "id": "iFhXHlAQ8sEK",
    "outputId": "6bda3def-5090-468d-9118-ec0ab566d209"
   },
   "outputs": [
    {
     "name": "stdout",
     "output_type": "stream",
     "text": [
      "0.5619392031268589\n"
     ]
    }
   ],
   "source": [
    "pred_train = best_model.predict(X_train)\n",
    "print (r2_score(y_train, pred_train))"
   ]
  }
 ],
 "metadata": {
  "colab": {
   "collapsed_sections": [],
   "name": "M6_AI4_CamachoPaul.ipynb",
   "provenance": []
  },
  "kernelspec": {
   "display_name": "Python 3 (ipykernel)",
   "language": "python",
   "name": "python3"
  },
  "language_info": {
   "codemirror_mode": {
    "name": "ipython",
    "version": 3
   },
   "file_extension": ".py",
   "mimetype": "text/x-python",
   "name": "python",
   "nbconvert_exporter": "python",
   "pygments_lexer": "ipython3",
   "version": "3.9.13"
  }
 },
 "nbformat": 4,
 "nbformat_minor": 4
}
